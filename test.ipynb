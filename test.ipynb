{
 "cells": [
  {
   "cell_type": "code",
   "execution_count": 4,
   "id": "bc4d8c6b",
   "metadata": {},
   "outputs": [],
   "source": [
    "lista1 = [\"Manzana\", 4, False]\n",
    "lista2 = [\"Pera\", 2, True]"
   ]
  },
  {
   "cell_type": "code",
   "execution_count": 5,
   "id": "eee55263",
   "metadata": {},
   "outputs": [
    {
     "data": {
      "text/plain": [
       "['Manzana', 4, False, 'Pera', 2, True]"
      ]
     },
     "execution_count": 5,
     "metadata": {},
     "output_type": "execute_result"
    }
   ],
   "source": [
    "lista1 + lista2"
   ]
  },
  {
   "cell_type": "code",
   "execution_count": 6,
   "id": "21b3c72e",
   "metadata": {},
   "outputs": [
    {
     "data": {
      "text/plain": [
       "['Pera', 2, True, 'Manzana', 4, False]"
      ]
     },
     "execution_count": 6,
     "metadata": {},
     "output_type": "execute_result"
    }
   ],
   "source": [
    "lista2 + lista1"
   ]
  },
  {
   "cell_type": "code",
   "execution_count": 7,
   "id": "2d60a817",
   "metadata": {},
   "outputs": [],
   "source": [
    "lista1 = [\"Manzana\", 4, False]"
   ]
  },
  {
   "cell_type": "code",
   "execution_count": 8,
   "id": "cce18faa",
   "metadata": {},
   "outputs": [
    {
     "data": {
      "text/plain": [
       "['Manzana', 4, False, 'Manzana', 4, False, 'Manzana', 4, False]"
      ]
     },
     "execution_count": 8,
     "metadata": {},
     "output_type": "execute_result"
    }
   ],
   "source": [
    "lista1 * 3"
   ]
  },
  {
   "cell_type": "code",
   "execution_count": 9,
   "id": "393bd27f",
   "metadata": {},
   "outputs": [
    {
     "data": {
      "text/plain": [
       "['Manzana', 4, False, 'Manzana', 4, False, 'Manzana', 4, False]"
      ]
     },
     "execution_count": 9,
     "metadata": {},
     "output_type": "execute_result"
    }
   ],
   "source": [
    "lista1 + lista1 + lista1"
   ]
  },
  {
   "cell_type": "code",
   "execution_count": 10,
   "id": "f67e9119",
   "metadata": {},
   "outputs": [],
   "source": [
    "lista1 = [\"Manzana\", 4, False]"
   ]
  },
  {
   "cell_type": "code",
   "execution_count": 11,
   "id": "9de4ca97",
   "metadata": {},
   "outputs": [
    {
     "data": {
      "text/plain": [
       "True"
      ]
     },
     "execution_count": 11,
     "metadata": {},
     "output_type": "execute_result"
    }
   ],
   "source": [
    "\"Manzana\" in lista1"
   ]
  },
  {
   "cell_type": "code",
   "execution_count": 12,
   "id": "6b3fc6a7",
   "metadata": {},
   "outputs": [
    {
     "data": {
      "text/plain": [
       "True"
      ]
     },
     "execution_count": 12,
     "metadata": {},
     "output_type": "execute_result"
    }
   ],
   "source": [
    "False in lista1"
   ]
  },
  {
   "cell_type": "code",
   "execution_count": 13,
   "id": "9016cb62",
   "metadata": {},
   "outputs": [
    {
     "data": {
      "text/plain": [
       "False"
      ]
     },
     "execution_count": 13,
     "metadata": {},
     "output_type": "execute_result"
    }
   ],
   "source": [
    "\"Pera\" in lista1"
   ]
  },
  {
   "cell_type": "code",
   "execution_count": 14,
   "id": "97b82be6",
   "metadata": {},
   "outputs": [],
   "source": [
    "lista1 = [\"Manzana\", 4, False]\n",
    "del lista1[1]"
   ]
  },
  {
   "cell_type": "code",
   "execution_count": 15,
   "id": "eade8dd7",
   "metadata": {},
   "outputs": [
    {
     "data": {
      "text/plain": [
       "['Manzana', False]"
      ]
     },
     "execution_count": 15,
     "metadata": {},
     "output_type": "execute_result"
    }
   ],
   "source": [
    "lista1"
   ]
  },
  {
   "cell_type": "code",
   "execution_count": 16,
   "id": "ef902bc6",
   "metadata": {},
   "outputs": [
    {
     "data": {
      "text/plain": [
       "18"
      ]
     },
     "execution_count": 16,
     "metadata": {},
     "output_type": "execute_result"
    }
   ],
   "source": [
    "lista1 = [2, 3, 5, 8]\n",
    "sum(lista1)"
   ]
  },
  {
   "cell_type": "code",
   "execution_count": 17,
   "id": "96555d54",
   "metadata": {},
   "outputs": [
    {
     "data": {
      "text/plain": [
       "'Manzana'"
      ]
     },
     "execution_count": 17,
     "metadata": {},
     "output_type": "execute_result"
    }
   ],
   "source": [
    "lista2 = [\"Manzana\", \"Pera\"]\n",
    "min(lista2)"
   ]
  },
  {
   "cell_type": "code",
   "execution_count": 18,
   "id": "c2dbd9af",
   "metadata": {},
   "outputs": [],
   "source": [
    "lista1 = [\"Manzana\", 4, False]\n",
    "lista1.append(2)"
   ]
  },
  {
   "cell_type": "code",
   "execution_count": 19,
   "id": "036aca6e",
   "metadata": {},
   "outputs": [
    {
     "data": {
      "text/plain": [
       "['Manzana', 4, False, 2]"
      ]
     },
     "execution_count": 19,
     "metadata": {},
     "output_type": "execute_result"
    }
   ],
   "source": [
    "lista1"
   ]
  },
  {
   "cell_type": "code",
   "execution_count": 20,
   "id": "79e871cd",
   "metadata": {},
   "outputs": [
    {
     "data": {
      "text/plain": [
       "2"
      ]
     },
     "execution_count": 20,
     "metadata": {},
     "output_type": "execute_result"
    }
   ],
   "source": [
    "lista1 = [\"Manzana\", \"Pera\", \"Frutilla\", \"Frutilla\", \"Manzana\"]\n",
    "lista1.count(\"Manzana\")"
   ]
  },
  {
   "cell_type": "code",
   "execution_count": 21,
   "id": "49795131",
   "metadata": {},
   "outputs": [
    {
     "data": {
      "text/plain": [
       "0"
      ]
     },
     "execution_count": 21,
     "metadata": {},
     "output_type": "execute_result"
    }
   ],
   "source": [
    "lista1 = [\"Manzana\", \"Frutilla\", \"Manzana\"]\n",
    "lista1.index(\"Manzana\")"
   ]
  },
  {
   "cell_type": "code",
   "execution_count": 22,
   "id": "e5b74da8",
   "metadata": {},
   "outputs": [
    {
     "ename": "ValueError",
     "evalue": "'Pera' is not in list",
     "output_type": "error",
     "traceback": [
      "\u001b[31m---------------------------------------------------------------------------\u001b[39m",
      "\u001b[31mValueError\u001b[39m                                Traceback (most recent call last)",
      "\u001b[36mCell\u001b[39m\u001b[36m \u001b[39m\u001b[32mIn[22]\u001b[39m\u001b[32m, line 1\u001b[39m\n\u001b[32m----> \u001b[39m\u001b[32m1\u001b[39m \u001b[43mlista1\u001b[49m\u001b[43m.\u001b[49m\u001b[43mindex\u001b[49m\u001b[43m(\u001b[49m\u001b[33;43m\"\u001b[39;49m\u001b[33;43mPera\u001b[39;49m\u001b[33;43m\"\u001b[39;49m\u001b[43m)\u001b[49m\n",
      "\u001b[31mValueError\u001b[39m: 'Pera' is not in list"
     ]
    }
   ],
   "source": [
    "lista1.index(\"Pera\")"
   ]
  },
  {
   "cell_type": "code",
   "execution_count": null,
   "id": "cd9b412d",
   "metadata": {},
   "outputs": [
    {
     "data": {
      "text/plain": [
       "['Frutilla', 'Manzana']"
      ]
     },
     "execution_count": 34,
     "metadata": {},
     "output_type": "execute_result"
    }
   ],
   "source": [
    "lista1 = [\"Manzana\", \"Frutilla\", \"Manzana\"]\n",
    "lista1.remove(\"Manzana\")\n",
    "\n",
    "lista1"
   ]
  },
  {
   "cell_type": "code",
   "execution_count": null,
   "id": "f7e0291f",
   "metadata": {},
   "outputs": [
    {
     "ename": "ValueError",
     "evalue": "list.remove(x): x not in list",
     "output_type": "error",
     "traceback": [
      "\u001b[31m---------------------------------------------------------------------------\u001b[39m",
      "\u001b[31mValueError\u001b[39m                                Traceback (most recent call last)",
      "\u001b[36mCell\u001b[39m\u001b[36m \u001b[39m\u001b[32mIn[35]\u001b[39m\u001b[32m, line 1\u001b[39m\n\u001b[32m----> \u001b[39m\u001b[32m1\u001b[39m \u001b[43mlista1\u001b[49m\u001b[43m.\u001b[49m\u001b[43mremove\u001b[49m\u001b[43m(\u001b[49m\u001b[33;43m\"\u001b[39;49m\u001b[33;43mPera\u001b[39;49m\u001b[33;43m\"\u001b[39;49m\u001b[43m)\u001b[49m\n",
      "\u001b[31mValueError\u001b[39m: list.remove(x): x not in list"
     ]
    }
   ],
   "source": [
    "lista1.remove(\"Pera\")"
   ]
  },
  {
   "cell_type": "code",
   "execution_count": null,
   "id": "6c062115",
   "metadata": {},
   "outputs": [
    {
     "data": {
      "text/plain": [
       "['Manzana', 'Frutilla', 'Pera']"
      ]
     },
     "execution_count": 36,
     "metadata": {},
     "output_type": "execute_result"
    }
   ],
   "source": [
    "lista1 = [\"Manzana\", \"Frutilla\", \"Pera\"]\n",
    "lista1"
   ]
  },
  {
   "cell_type": "code",
   "execution_count": null,
   "id": "cecfc2e3",
   "metadata": {},
   "outputs": [
    {
     "data": {
      "text/plain": [
       "['Pera', 'Frutilla', 'Manzana']"
      ]
     },
     "execution_count": 37,
     "metadata": {},
     "output_type": "execute_result"
    }
   ],
   "source": [
    "lista1.reverse()\n",
    "lista1"
   ]
  },
  {
   "cell_type": "code",
   "execution_count": null,
   "id": "953ee710",
   "metadata": {},
   "outputs": [
    {
     "data": {
      "text/plain": [
       "[2, 3, 4, 7, 9]"
      ]
     },
     "execution_count": 40,
     "metadata": {},
     "output_type": "execute_result"
    }
   ],
   "source": [
    "lista1 = [3, 2, 4, 7, 9]\n",
    "lista1.sort()\n",
    "lista1"
   ]
  },
  {
   "cell_type": "code",
   "execution_count": null,
   "id": "7173ccf6",
   "metadata": {},
   "outputs": [
    {
     "data": {
      "text/plain": [
       "[9, 7, 4, 3, 2]"
      ]
     },
     "execution_count": 41,
     "metadata": {},
     "output_type": "execute_result"
    }
   ],
   "source": [
    "lista1.sort(reverse=True)\n",
    "lista1"
   ]
  },
  {
   "cell_type": "code",
   "execution_count": null,
   "id": "c2b099ad",
   "metadata": {},
   "outputs": [
    {
     "data": {
      "text/plain": [
       "[1, 2, 3, 4, 5, 6]"
      ]
     },
     "execution_count": 50,
     "metadata": {},
     "output_type": "execute_result"
    }
   ],
   "source": [
    "lista1 = [1, 2, 3, 4, 6]\n",
    "lista1.insert(4, 5)\n",
    "lista1"
   ]
  },
  {
   "cell_type": "code",
   "execution_count": null,
   "id": "3fd02522",
   "metadata": {},
   "outputs": [
    {
     "data": {
      "text/plain": [
       "[1, 2, 3, 4, 5, 6, 7]"
      ]
     },
     "execution_count": 51,
     "metadata": {},
     "output_type": "execute_result"
    }
   ],
   "source": [
    "lista1.insert(6, 7)\n",
    "lista1"
   ]
  },
  {
   "cell_type": "code",
   "execution_count": null,
   "id": "210dcb63",
   "metadata": {},
   "outputs": [
    {
     "data": {
      "text/plain": [
       "[1, 2, 3, 4, 5, 6, 7, 9]"
      ]
     },
     "execution_count": 52,
     "metadata": {},
     "output_type": "execute_result"
    }
   ],
   "source": [
    "lista1.insert(8, 9) #Ojopiojo\n",
    "lista1"
   ]
  },
  {
   "cell_type": "code",
   "execution_count": null,
   "id": "877096a5",
   "metadata": {},
   "outputs": [
    {
     "name": "stdout",
     "output_type": "stream",
     "text": [
      "Manzana\n",
      "1\n",
      "True\n"
     ]
    }
   ],
   "source": [
    "lista1 = [\"Manzana\", 1, True]\n",
    "\n",
    "for elemento in lista1:\n",
    "    print(elemento)"
   ]
  },
  {
   "cell_type": "code",
   "execution_count": null,
   "id": "792d7233",
   "metadata": {},
   "outputs": [
    {
     "name": "stdout",
     "output_type": "stream",
     "text": [
      "3\n",
      "1\n",
      "2\n",
      "5\n"
     ]
    }
   ],
   "source": [
    "lista2 = [3, 1, 2, 5]\n",
    "\n",
    "for num in lista2:\n",
    "    print(num)"
   ]
  },
  {
   "cell_type": "code",
   "execution_count": null,
   "id": "9d164bc1",
   "metadata": {},
   "outputs": [
    {
     "name": "stdout",
     "output_type": "stream",
     "text": [
      "Manzana\n",
      "1\n",
      "True\n"
     ]
    }
   ],
   "source": [
    "lista1 = [\"Manzana\", 1, True]\n",
    "i = 0\n",
    "\n",
    "while i < len(lista1):\n",
    "    print(lista1[i])\n",
    "    i += 1"
   ]
  },
  {
   "cell_type": "code",
   "execution_count": null,
   "id": "dba982c9",
   "metadata": {},
   "outputs": [
    {
     "data": {
      "text/plain": [
       "[2, 5, 8]"
      ]
     },
     "execution_count": 59,
     "metadata": {},
     "output_type": "execute_result"
    }
   ],
   "source": [
    "#Caso 1\n",
    "lista1 = [2, 5, 8]\n",
    "lista2 = lista1 #Copia de referencia (memoria)\n",
    "lista2"
   ]
  },
  {
   "cell_type": "code",
   "execution_count": null,
   "id": "93352cca",
   "metadata": {},
   "outputs": [
    {
     "data": {
      "text/plain": [
       "[2, 5, 8, 4]"
      ]
     },
     "execution_count": 60,
     "metadata": {},
     "output_type": "execute_result"
    }
   ],
   "source": [
    "lista2.append(4)\n",
    "lista1"
   ]
  },
  {
   "cell_type": "code",
   "execution_count": null,
   "id": "15e57eea",
   "metadata": {},
   "outputs": [
    {
     "data": {
      "text/plain": [
       "[2, 5, 8]"
      ]
     },
     "execution_count": 61,
     "metadata": {},
     "output_type": "execute_result"
    }
   ],
   "source": [
    "#Caso 2\n",
    "lista1 = [2, 5, 8]\n",
    "lista2 = list(lista1) #Copia\n",
    "lista2"
   ]
  },
  {
   "cell_type": "code",
   "execution_count": null,
   "id": "3d4be1ab",
   "metadata": {},
   "outputs": [
    {
     "data": {
      "text/plain": [
       "[2, 5, 8]"
      ]
     },
     "execution_count": 62,
     "metadata": {},
     "output_type": "execute_result"
    }
   ],
   "source": [
    "lista2.append(4)\n",
    "lista1"
   ]
  },
  {
   "cell_type": "code",
   "execution_count": null,
   "id": "0f963589",
   "metadata": {},
   "outputs": [],
   "source": [
    "def cambio_divisa(precios_dolares):\n",
    "    for i in range(len(precios_dolares)):\n",
    "        precios_dolares[i] *= 1000\n",
    "    \n",
    "    return precios_dolares\n",
    "\n",
    "precios_dolares = [2, 5, 10, 0.5]\n",
    "precios_clp = cambio_divisa(precios_dolares)"
   ]
  },
  {
   "cell_type": "code",
   "execution_count": null,
   "id": "3cbb7144",
   "metadata": {},
   "outputs": [
    {
     "data": {
      "text/plain": [
       "[2000, 5000, 10000, 500.0]"
      ]
     },
     "execution_count": 70,
     "metadata": {},
     "output_type": "execute_result"
    }
   ],
   "source": [
    "precios_clp"
   ]
  },
  {
   "cell_type": "code",
   "execution_count": null,
   "id": "c8dc5dde",
   "metadata": {},
   "outputs": [
    {
     "data": {
      "text/plain": [
       "[2000, 5000, 10000, 500.0]"
      ]
     },
     "execution_count": 71,
     "metadata": {},
     "output_type": "execute_result"
    }
   ],
   "source": [
    "precios_dolares"
   ]
  },
  {
   "cell_type": "code",
   "execution_count": null,
   "id": "ecaa1758",
   "metadata": {},
   "outputs": [
    {
     "data": {
      "text/plain": [
       "[4000, 5000, 10000, 500.0]"
      ]
     },
     "execution_count": 72,
     "metadata": {},
     "output_type": "execute_result"
    }
   ],
   "source": [
    "precios_clp[0] = 4000\n",
    "precios_dolares"
   ]
  },
  {
   "cell_type": "code",
   "execution_count": null,
   "id": "fc9a0d1f",
   "metadata": {},
   "outputs": [],
   "source": [
    "def cambio_divisa(precios_dolares):\n",
    "    for i in range(len(precios_dolares)):\n",
    "        precios_dolares[i] *= 1000\n",
    "    \n",
    "    return precios_dolares\n",
    "\n",
    "precios_dolares = [2, 5, 10, 0.5]\n",
    "precios_clp = cambio_divisa(list(precios_dolares))"
   ]
  },
  {
   "cell_type": "code",
   "execution_count": null,
   "id": "ced75a66",
   "metadata": {},
   "outputs": [
    {
     "data": {
      "text/plain": [
       "[2000, 5000, 10000, 500.0]"
      ]
     },
     "execution_count": 89,
     "metadata": {},
     "output_type": "execute_result"
    }
   ],
   "source": [
    "precios_clp"
   ]
  },
  {
   "cell_type": "code",
   "execution_count": null,
   "id": "0ee888d7",
   "metadata": {},
   "outputs": [
    {
     "data": {
      "text/plain": [
       "[2, 5, 10, 0.5]"
      ]
     },
     "execution_count": 90,
     "metadata": {},
     "output_type": "execute_result"
    }
   ],
   "source": [
    "precios_dolares"
   ]
  },
  {
   "cell_type": "code",
   "execution_count": null,
   "id": "2edfb568",
   "metadata": {},
   "outputs": [
    {
     "data": {
      "text/plain": [
       "[4000, 5000, 10000, 500.0]"
      ]
     },
     "execution_count": 91,
     "metadata": {},
     "output_type": "execute_result"
    }
   ],
   "source": [
    "precios_clp[0] = 4000\n",
    "precios_clp"
   ]
  },
  {
   "cell_type": "code",
   "execution_count": null,
   "id": "4c17d981",
   "metadata": {},
   "outputs": [
    {
     "data": {
      "text/plain": [
       "[2, 5, 10, 0.5]"
      ]
     },
     "execution_count": 92,
     "metadata": {},
     "output_type": "execute_result"
    }
   ],
   "source": [
    "precios_dolares"
   ]
  },
  {
   "cell_type": "code",
   "execution_count": null,
   "id": "1bcf258c",
   "metadata": {},
   "outputs": [
    {
     "name": "stdout",
     "output_type": "stream",
     "text": [
      "['Manzana', 3, False]\n",
      "['Pera', 1, False]\n",
      "['Manzana', 2, True]\n",
      "hola\n"
     ]
    }
   ],
   "source": [
    "lista1 = [[\"Manzana\", 3, False], [\"Pera\", 1, False], [\"Manzana\", 2, True], \"hola\"]\n",
    "\n",
    "for elemento in lista1:\n",
    "    print(elemento)"
   ]
  },
  {
   "cell_type": "code",
   "execution_count": null,
   "id": "b41e3c7b",
   "metadata": {},
   "outputs": [
    {
     "name": "stdout",
     "output_type": "stream",
     "text": [
      "Producto: \n",
      "Manzana\n",
      "3\n",
      "False\n",
      "\n",
      "\n",
      "\n",
      "Producto: \n",
      "Pera\n",
      "1\n",
      "False\n",
      "\n",
      "\n",
      "\n"
     ]
    }
   ],
   "source": [
    "lista1 = [[\"Manzana\", 3, False], [\"Pera\", 1, False]]\n",
    "\n",
    "for stock in lista1:\n",
    "    print(\"Producto: \")\n",
    "    for elemento in stock:\n",
    "        print(elemento)\n",
    "    \n",
    "    print(\"\\n\\n\")"
   ]
  },
  {
   "cell_type": "code",
   "execution_count": null,
   "id": "22b2962b",
   "metadata": {},
   "outputs": [
    {
     "name": "stdout",
     "output_type": "stream",
     "text": [
      "[1, 2, 3, 1, 2, 3]\n"
     ]
    }
   ],
   "source": [
    "list = [1, 2, 3]\n",
    "list = list * 2\n",
    "print(list)"
   ]
  },
  {
   "cell_type": "code",
   "execution_count": null,
   "id": "4c0bef94",
   "metadata": {},
   "outputs": [
    {
     "name": "stdout",
     "output_type": "stream",
     "text": [
      "None\n",
      "None\n"
     ]
    }
   ],
   "source": [
    "lista = [10, 20, 30]\n",
    "lista.insert(1, 15)\n",
    "print(lista)"
   ]
  },
  {
   "cell_type": "code",
   "execution_count": null,
   "id": "7761d311",
   "metadata": {},
   "outputs": [],
   "source": [
    "a = [1, 2, 3]\n",
    "b = a\n",
    "b.append(4)\n",
    "print(a)"
   ]
  },
  {
   "cell_type": "code",
   "execution_count": null,
   "id": "dfbc6436",
   "metadata": {},
   "outputs": [],
   "source": [
    "lista = [1, 2, 3, 4]\n",
    "del lista[1]\n",
    "print(lista)\n",
    "\n"
   ]
  },
  {
   "cell_type": "code",
   "execution_count": null,
   "id": "23b1d2a2",
   "metadata": {},
   "outputs": [
    {
     "name": "stdout",
     "output_type": "stream",
     "text": [
      "0\n"
     ]
    }
   ],
   "source": [
    "lista = [1, 2, 3]\n",
    "print(lista.count(4))"
   ]
  },
  {
   "cell_type": "code",
   "execution_count": null,
   "id": "2f50ff40",
   "metadata": {},
   "outputs": [
    {
     "ename": "ValueError",
     "evalue": "'Kiwi' is not in list",
     "output_type": "error",
     "traceback": [
      "\u001b[31m---------------------------------------------------------------------------\u001b[39m",
      "\u001b[31mValueError\u001b[39m                                Traceback (most recent call last)",
      "\u001b[36mCell\u001b[39m\u001b[36m \u001b[39m\u001b[32mIn[108]\u001b[39m\u001b[32m, line 2\u001b[39m\n\u001b[32m      1\u001b[39m lista = [\u001b[33m\"\u001b[39m\u001b[33mManzana\u001b[39m\u001b[33m\"\u001b[39m, \u001b[33m\"\u001b[39m\u001b[33mPera\u001b[39m\u001b[33m\"\u001b[39m, \u001b[33m\"\u001b[39m\u001b[33mTomate\u001b[39m\u001b[33m\"\u001b[39m]\n\u001b[32m----> \u001b[39m\u001b[32m2\u001b[39m \u001b[43mlista\u001b[49m\u001b[43m.\u001b[49m\u001b[43mindex\u001b[49m\u001b[43m(\u001b[49m\u001b[33;43m\"\u001b[39;49m\u001b[33;43mKiwi\u001b[39;49m\u001b[33;43m\"\u001b[39;49m\u001b[43m)\u001b[49m\n",
      "\u001b[31mValueError\u001b[39m: 'Kiwi' is not in list"
     ]
    }
   ],
   "source": [
    "lista = [\"Manzana\", \"Pera\", \"Tomate\"]\n",
    "lista.index(\"Kiwi\")"
   ]
  },
  {
   "cell_type": "code",
   "execution_count": null,
   "id": "48808f11",
   "metadata": {},
   "outputs": [
    {
     "name": "stdout",
     "output_type": "stream",
     "text": [
      "Toronja\n"
     ]
    }
   ],
   "source": [
    "lista = [\"Manzana\", \"Pera\", \"Tomate\", \"Naranja\", \"Palta\", \"Toronja\"]\n",
    "print(max(lista))"
   ]
  },
  {
   "cell_type": "code",
   "execution_count": null,
   "id": "6e92dbfb",
   "metadata": {},
   "outputs": [
    {
     "ename": "TypeError",
     "evalue": "unsupported operand type(s) for +: 'int' and 'str'",
     "output_type": "error",
     "traceback": [
      "\u001b[31m---------------------------------------------------------------------------\u001b[39m",
      "\u001b[31mTypeError\u001b[39m                                 Traceback (most recent call last)",
      "\u001b[36mCell\u001b[39m\u001b[36m \u001b[39m\u001b[32mIn[111]\u001b[39m\u001b[32m, line 2\u001b[39m\n\u001b[32m      1\u001b[39m lista = [\u001b[33m\"\u001b[39m\u001b[33mManzana\u001b[39m\u001b[33m\"\u001b[39m, \u001b[32m3\u001b[39m, \u001b[38;5;28;01mFalse\u001b[39;00m]\n\u001b[32m----> \u001b[39m\u001b[32m2\u001b[39m \u001b[38;5;28;43msum\u001b[39;49m\u001b[43m(\u001b[49m\u001b[43mlista\u001b[49m\u001b[43m)\u001b[49m\n",
      "\u001b[31mTypeError\u001b[39m: unsupported operand type(s) for +: 'int' and 'str'"
     ]
    }
   ],
   "source": [
    "lista = [\"Manzana\", 3, False]\n",
    "sum(lista)"
   ]
  },
  {
   "cell_type": "code",
   "execution_count": null,
   "id": "48b2579c",
   "metadata": {},
   "outputs": [
    {
     "name": "stdout",
     "output_type": "stream",
     "text": [
      "[[1, 0, 0], [1, 0, 0], [1, 0, 0]]\n"
     ]
    }
   ],
   "source": [
    "m = [[0]*3]*3\n",
    "m[0][0] = 1\n",
    "print(m)"
   ]
  },
  {
   "cell_type": "code",
   "execution_count": null,
   "id": "9feaf8d3",
   "metadata": {},
   "outputs": [
    {
     "name": "stdout",
     "output_type": "stream",
     "text": [
      "None [1, 2, 3]\n"
     ]
    }
   ],
   "source": [
    "numeros = [3, 1, 2]\n",
    "x = numeros.sort()\n",
    "print(x, numeros)"
   ]
  },
  {
   "cell_type": "code",
   "execution_count": null,
   "id": "e87aedc3",
   "metadata": {},
   "outputs": [
    {
     "name": "stdout",
     "output_type": "stream",
     "text": [
      "[1, 2, 3, 4] [1, 2, 3, 4] [1, 2, 3, 5]\n"
     ]
    }
   ],
   "source": [
    "lista1 = [1, 2, 3]\n",
    "lista2 = lista1\n",
    "lista3 = lista1[:]\n",
    "\n",
    "lista2.append(4)\n",
    "lista3.append(5)\n",
    "print(lista1, lista2, lista3)"
   ]
  },
  {
   "cell_type": "code",
   "execution_count": 72,
   "id": "bec39d05",
   "metadata": {},
   "outputs": [
    {
     "name": "stdout",
     "output_type": "stream",
     "text": [
      "[1, 2, 3, 5, 5]\n"
     ]
    }
   ],
   "source": [
    "numeros = [1, 2, 2, 3, 4, 5, 5, 6]\n",
    "\n",
    "for num in numeros:\n",
    "    if num % 2 == 0:\n",
    "        numeros.remove(num)\n",
    "\n",
    "print(numeros)\n"
   ]
  },
  {
   "cell_type": "code",
   "execution_count": 73,
   "id": "a83dbc12",
   "metadata": {},
   "outputs": [
    {
     "name": "stdout",
     "output_type": "stream",
     "text": [
      "[3, 2, 1, 8, 6]\n"
     ]
    }
   ],
   "source": [
    "def transformar(lista):\n",
    "    lista.reverse()\n",
    "    lista.append(8)\n",
    "    del lista[0]\n",
    "    lista.remove(2)\n",
    "    return lista + [6]\n",
    "\n",
    "original = [1, 2, 3, 2, 4]\n",
    "print(transformar(original))"
   ]
  },
  {
   "cell_type": "code",
   "execution_count": 74,
   "id": "061e0744",
   "metadata": {},
   "outputs": [
    {
     "name": "stdout",
     "output_type": "stream",
     "text": [
      "[3, 5, 7, 10]\n",
      "5\n"
     ]
    }
   ],
   "source": [
    "def transformar(lista):\n",
    "    lista.append(10)\n",
    "    lista.sort()\n",
    "    return lista[1]\n",
    "\n",
    "numeros = [7, 3, 5]\n",
    "resultado = transformar(numeros)\n",
    "print(numeros)\n",
    "print(resultado)"
   ]
  },
  {
   "cell_type": "code",
   "execution_count": 75,
   "id": "d3407737",
   "metadata": {},
   "outputs": [
    {
     "name": "stdout",
     "output_type": "stream",
     "text": [
      "{'nombre': 'Sherlock', 'rol': '202581023-2', 'nota_tareas': [91, 94, 97, 100]}\n"
     ]
    }
   ],
   "source": [
    "estudiante = {\n",
    "    \"nombre\": None,\n",
    "    \"rol\" : None,\n",
    "    \"nota_tareas\": []\n",
    "}\n",
    "\n",
    "estudiante[\"nombre\"] = \"Sherlock\"\n",
    "estudiante[\"rol\"] = \"202581023-2\"\n",
    "\n",
    "for i in range(4):\n",
    "    estudiante[\"nota_tareas\"].append(91 + i * 3)\n",
    "print(estudiante)"
   ]
  },
  {
   "cell_type": "code",
   "execution_count": 76,
   "id": "f4fc152d",
   "metadata": {},
   "outputs": [
    {
     "name": "stdout",
     "output_type": "stream",
     "text": [
      "{'nombre': 'Sherlock', 'rol': '202581023-2', 'nota_tareas': [91, 94, 97, 100], 'notas_TS': [100, 100, 100, 100, 100, 100]}\n"
     ]
    }
   ],
   "source": [
    "estudiante[\"notas_TS\"] = [100, 100, 100, 100, 100, 100]\n",
    "print(estudiante)"
   ]
  },
  {
   "cell_type": "code",
   "execution_count": 77,
   "id": "8460f228",
   "metadata": {},
   "outputs": [
    {
     "name": "stdout",
     "output_type": "stream",
     "text": [
      "{'nombre': 'Sherlock', 'rol': '202581023-2', 'nota_tareas': [91, 94, 97, 100], 'notas_TS': [100, 100, 100, 100, 100, 100], 2: ['ramo']}\n"
     ]
    }
   ],
   "source": [
    "estudiante[2] = [\"ramo\"] #Salvedades\n",
    "print(estudiante)"
   ]
  },
  {
   "cell_type": "code",
   "execution_count": null,
   "id": "249aad88",
   "metadata": {},
   "outputs": [],
   "source": []
  },
  {
   "cell_type": "code",
   "execution_count": 78,
   "id": "5b3ce4fb",
   "metadata": {},
   "outputs": [
    {
     "name": "stdout",
     "output_type": "stream",
     "text": [
      "{'nombre': 'Sherlock', 'rol': '202581023-2', 'nota_tareas': [100, 100, 100, 100], 'notas_TS': [100, 100, 100, 100, 100, 100], 2: ['ramo']}\n"
     ]
    }
   ],
   "source": [
    "estudiante[\"nota_tareas\"] = [100] * 4\n",
    "print(estudiante)"
   ]
  },
  {
   "cell_type": "code",
   "execution_count": 79,
   "id": "435e27c1",
   "metadata": {},
   "outputs": [
    {
     "name": "stdout",
     "output_type": "stream",
     "text": [
      "{'nombre': 'Sherlock', 'rol': '202581023-2', 'nota_tareas': [100, 100, 100, 100]}\n"
     ]
    }
   ],
   "source": [
    "del estudiante[2]\n",
    "del estudiante[\"notas_TS\"]\n",
    "print(estudiante)"
   ]
  },
  {
   "cell_type": "code",
   "execution_count": null,
   "id": "57a30b87",
   "metadata": {},
   "outputs": [],
   "source": []
  },
  {
   "cell_type": "code",
   "execution_count": 80,
   "id": "40487af7",
   "metadata": {},
   "outputs": [
    {
     "name": "stdout",
     "output_type": "stream",
     "text": [
      "nombre : Sherlock\n",
      "rol : 202581023-2\n",
      "nota_tareas : [100, 100, 100, 100]\n",
      "100\n",
      "100\n",
      "100\n",
      "100\n"
     ]
    }
   ],
   "source": [
    "for clave in estudiante: #Recorro el diccionario\n",
    "    print(clave, \":\", estudiante[clave])\n",
    "\n",
    "for nota in estudiante[\"nota_tareas\"]: #recorro la lista asociada a la clave \"notas_tareas\" del diccionario\n",
    "    print(nota)"
   ]
  },
  {
   "cell_type": "code",
   "execution_count": 81,
   "id": "64d9a561",
   "metadata": {},
   "outputs": [
    {
     "name": "stdout",
     "output_type": "stream",
     "text": [
      "hola\n"
     ]
    }
   ],
   "source": [
    "print(\"hola\")"
   ]
  },
  {
   "cell_type": "code",
   "execution_count": null,
   "id": "87a98617",
   "metadata": {},
   "outputs": [
    {
     "name": "stdout",
     "output_type": "stream",
     "text": [
      "{'MAT071': 2, 'MAT021': 3, 'FIS120': 1, 'FIS130': 3, 'INF253': 1, 'QUI010': 3, 'ELI015': 2, 'MAT022': 1, 'MAT061': 1}\n"
     ]
    }
   ],
   "source": [
    "inscripciones = [\"MAT071\", \"MAT021\", \"FIS120\", \"FIS130\", \n",
    "                \"INF253\", \"QUI010\", \"ELI015\", \"MAT021\",\n",
    "                \"MAT071\", \"QUI010\", \"FIS130\", \"MAT022\", \"MAT021\",\n",
    "                \"FIS130\", \"ELI015\", \"MAT061\", \"QUI010\"]\n",
    "pae = {}\n",
    "\n",
    "for inscripcion_pae in inscripciones:\n",
    "    if inscripcion_pae not in pae: #Consulto si la llave se encuentra o no en el diccionario\n",
    "        pae[inscripcion_pae] = 0 #¿Por qué la inicializo en 0 y no en 1?\n",
    "    pae[inscripcion_pae] += 1\n",
    "\n",
    "print(pae)\n"
   ]
  },
  {
   "cell_type": "code",
   "execution_count": 22,
   "id": "263327da",
   "metadata": {},
   "outputs": [
    {
     "ename": "RuntimeError",
     "evalue": "dictionary changed size during iteration",
     "output_type": "error",
     "traceback": [
      "\u001b[31m---------------------------------------------------------------------------\u001b[39m",
      "\u001b[31mRuntimeError\u001b[39m                              Traceback (most recent call last)",
      "\u001b[36mCell\u001b[39m\u001b[36m \u001b[39m\u001b[32mIn[22]\u001b[39m\u001b[32m, line 1\u001b[39m\n\u001b[32m----> \u001b[39m\u001b[32m1\u001b[39m \u001b[38;5;28;43;01mfor\u001b[39;49;00m\u001b[43m \u001b[49m\u001b[43mramo\u001b[49m\u001b[43m \u001b[49m\u001b[38;5;129;43;01min\u001b[39;49;00m\u001b[43m \u001b[49m\u001b[43mpae\u001b[49m\u001b[43m:\u001b[49m\u001b[43m \u001b[49m\u001b[38;5;66;43;03m#Error no trivial, ¿Cual es la diferencia con listas?\u001b[39;49;00m\n\u001b[32m      2\u001b[39m \u001b[43m    \u001b[49m\u001b[38;5;28;43;01mif\u001b[39;49;00m\u001b[43m \u001b[49m\u001b[43mpae\u001b[49m\u001b[43m[\u001b[49m\u001b[43mramo\u001b[49m\u001b[43m]\u001b[49m\u001b[43m \u001b[49m\u001b[43m<\u001b[49m\u001b[43m \u001b[49m\u001b[32;43m20\u001b[39;49m\u001b[43m:\u001b[49m\n\u001b[32m      3\u001b[39m \u001b[43m        \u001b[49m\u001b[38;5;28;43;01mdel\u001b[39;49;00m\u001b[43m \u001b[49m\u001b[43mpae\u001b[49m\u001b[43m[\u001b[49m\u001b[43mramo\u001b[49m\u001b[43m]\u001b[49m\n",
      "\u001b[31mRuntimeError\u001b[39m: dictionary changed size during iteration"
     ]
    }
   ],
   "source": [
    "for ramo in pae: #Error no trivial, ¿Cual es la diferencia con listas?\n",
    "    if pae[ramo] < 20:\n",
    "        del pae[ramo]\n",
    "\n",
    "print(pae)\n",
    "            "
   ]
  },
  {
   "cell_type": "code",
   "execution_count": null,
   "id": "277dc6fe",
   "metadata": {},
   "outputs": [],
   "source": []
  },
  {
   "cell_type": "code",
   "execution_count": null,
   "id": "911da25f",
   "metadata": {},
   "outputs": [
    {
     "name": "stdout",
     "output_type": "stream",
     "text": [
      "1\n",
      "2\n",
      "3\n",
      "4\n"
     ]
    }
   ],
   "source": [
    "lista = [1, 2, 3]\n",
    "for x in lista:\n",
    "    print(x)\n",
    "    if x == 2:\n",
    "        lista.append(4)\n"
   ]
  },
  {
   "cell_type": "code",
   "execution_count": null,
   "id": "c07e2132",
   "metadata": {},
   "outputs": [
    {
     "name": "stdout",
     "output_type": "stream",
     "text": [
      "[[0, 13], [1], [True], [1, 2], [1, 3], [5, 4], [20, 3, 3]]\n"
     ]
    }
   ],
   "source": [
    "lista = [[1, 2], [0, 13], [20, 3, 3], [1, 3], [1], [5, 4], [True]]\n",
    "lista.sort() #CUIDADO, NO PUEDO HACER SORT\n",
    "print(lista)"
   ]
  },
  {
   "cell_type": "code",
   "execution_count": null,
   "id": "4009e36c",
   "metadata": {},
   "outputs": [
    {
     "ename": "TypeError",
     "evalue": "'<' not supported between instances of 'str' and 'int'",
     "output_type": "error",
     "traceback": [
      "\u001b[31m---------------------------------------------------------------------------\u001b[39m",
      "\u001b[31mTypeError\u001b[39m                                 Traceback (most recent call last)",
      "\u001b[36mCell\u001b[39m\u001b[36m \u001b[39m\u001b[32mIn[18]\u001b[39m\u001b[32m, line 2\u001b[39m\n\u001b[32m      1\u001b[39m lista = [[\u001b[32m1\u001b[39m, \u001b[32m2\u001b[39m], [\u001b[33m\"\u001b[39m\u001b[33mPatricio Estrella\u001b[39m\u001b[33m\"\u001b[39m, \u001b[32m1\u001b[39m], [\u001b[32m3\u001b[39m]]\n\u001b[32m----> \u001b[39m\u001b[32m2\u001b[39m \u001b[43mlista\u001b[49m\u001b[43m.\u001b[49m\u001b[43msort\u001b[49m\u001b[43m(\u001b[49m\u001b[43m)\u001b[49m\n",
      "\u001b[31mTypeError\u001b[39m: '<' not supported between instances of 'str' and 'int'"
     ]
    }
   ],
   "source": [
    "lista = [[1, 2], [\"Patricio Estrella\", 1], [3]]\n",
    "lista.sort() #No puedo comparar un string con un entero, flotante o booleano"
   ]
  },
  {
   "cell_type": "code",
   "execution_count": null,
   "id": "186d00bc",
   "metadata": {},
   "outputs": [
    {
     "name": "stdout",
     "output_type": "stream",
     "text": [
      "[['Malcom', 10], ['Dui', 10], ['Lois', 8], ['Reese', 2]]\n"
     ]
    }
   ],
   "source": [
    "inf129y_asistencia = {\n",
    "    \"Malcom\": 10,\n",
    "    \"Dui\": 10,\n",
    "    \"Lois\": 8,\n",
    "    \"Reese\": 2,\n",
    "}\n",
    "lista_aux = []\n",
    "for alumno in inf129y_asistencia: #recordar que la variable del for toma solo la clave del dict\n",
    "    lista_aux.append([alumno, inf129y_asistencia[alumno]])\n",
    "\n",
    "print(lista_aux)"
   ]
  },
  {
   "cell_type": "code",
   "execution_count": null,
   "id": "0b06361e",
   "metadata": {},
   "outputs": [],
   "source": []
  },
  {
   "cell_type": "code",
   "execution_count": null,
   "id": "d938224c",
   "metadata": {},
   "outputs": [],
   "source": []
  },
  {
   "cell_type": "code",
   "execution_count": null,
   "id": "e88cf073",
   "metadata": {},
   "outputs": [],
   "source": [
    "boletas = [200, 120, 300, 70, 80, 21]\n",
    "#Digamos que cualquier boleta sobre los 100 pesos, debe pagar + intereses\n",
    "#Y queremos informar mediante código todas las boletas que pagan + intereses\n",
    "aux = []\n",
    "\n",
    "for boleta in boletas:\n",
    "    if boleta > 100:\n",
    "        aux.append(boleta)\n",
    "\n",
    "print(aux)\n"
   ]
  }
 ],
 "metadata": {
  "kernelspec": {
   "display_name": "Python 3",
   "language": "python",
   "name": "python3"
  },
  "language_info": {
   "codemirror_mode": {
    "name": "ipython",
    "version": 3
   },
   "file_extension": ".py",
   "mimetype": "text/x-python",
   "name": "python",
   "nbconvert_exporter": "python",
   "pygments_lexer": "ipython3",
   "version": "3.12.1"
  }
 },
 "nbformat": 4,
 "nbformat_minor": 5
}
