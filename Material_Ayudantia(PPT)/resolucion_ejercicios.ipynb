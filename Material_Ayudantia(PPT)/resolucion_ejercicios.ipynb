{
 "cells": [
  {
   "cell_type": "markdown",
   "id": "0c8b4049",
   "metadata": {},
   "source": [
    "# Ejercicio 5: Red Social"
   ]
  },
  {
   "cell_type": "code",
   "execution_count": null,
   "id": "7630f61b",
   "metadata": {
    "vscode": {
     "languageId": "plaintext"
    }
   },
   "outputs": [],
   "source": [
    "def informe(lista):\n",
    "    siguiendo = dict()\n",
    "    seguidores = dict()\n",
    "    for relacion in lista:\n",
    "        if relacion[0] not in siguiendo:\n",
    "            siguiendo[relacion[0]] = []\n",
    "        \n",
    "        if relacion[1] not in seguidores:\n",
    "            seguidores[relacion[1]] = []\n",
    "        \n",
    "        if relacion[1] not in siguiendo[relacion[0]]:\n",
    "            siguiendo[relacion[0]].append(relacion[1])\n",
    "            \n",
    "        if relacion[0] not in seguidores[relacion[1]]:\n",
    "            seguidores[relacion[1]].append(relacion[0])\n",
    "        \n",
    "    return siguiendo, seguidores\n",
    "\n",
    "relaciones = [\n",
    "    [\"Ana\", \"Luis\"], [\"Luis\", \"Marta\"], [\"Marta\", \"Ana\"], \n",
    "    [\"Ana\", \"Marta\"], [\"Sofía\", \"Luis\"], [\"Carlos\", \"Ana\"],\n",
    "    [\"Luis\", \"Sofía\"], [\"Marta\", \"Sofía\"], [\"Sofía\", \"Ana\"],\n",
    "    [\"Carlos\", \"Luis\"], [\"Ana\", \"Carlos\"]\n",
    "]\n",
    "\n",
    "print(informe(relaciones))"
   ]
  }
 ],
 "metadata": {
  "language_info": {
   "name": "python"
  }
 },
 "nbformat": 4,
 "nbformat_minor": 5
}
